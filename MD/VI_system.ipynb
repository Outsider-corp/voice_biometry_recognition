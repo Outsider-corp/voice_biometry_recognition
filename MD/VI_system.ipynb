{
 "cells": [
  {
   "cell_type": "code",
   "id": "initial_id",
   "metadata": {
    "collapsed": true,
    "ExecuteTime": {
     "end_time": "2024-05-10T12:05:40.120177Z",
     "start_time": "2024-05-10T12:05:37.952420Z"
    }
   },
   "source": [
    "import numpy as np\n",
    "import matplotlib.pyplot as plt\n",
    "import json\n",
    "import os\n",
    "\n",
    "from MD.get_person_voice import crop_and_convert_audio\n",
    "from MD.parts.main_predict import emb_from_file, identification_emb, get_DTDNNSS_model, load_db\n",
    "\n",
    "os.chdir(r'D:\\Py_Projects\\neuro')"
   ],
   "outputs": [],
   "execution_count": 1
  },
  {
   "metadata": {
    "ExecuteTime": {
     "end_time": "2024-05-10T12:05:40.126004Z",
     "start_time": "2024-05-10T12:05:40.121255Z"
    }
   },
   "cell_type": "code",
   "source": [
    "with open('voice_params/v3_voice_params_100pers_5vox.json', 'r') as f:\n",
    "    model_params = json.load(f)"
   ],
   "id": "7131d24c2f02ace3",
   "outputs": [],
   "execution_count": 2
  },
  {
   "metadata": {
    "ExecuteTime": {
     "end_time": "2024-05-10T12:05:40.522031Z",
     "start_time": "2024-05-10T12:05:40.128937Z"
    }
   },
   "cell_type": "code",
   "source": "model = get_DTDNNSS_model()",
   "id": "61d8fcfddca34009",
   "outputs": [],
   "execution_count": 3
  },
  {
   "metadata": {
    "ExecuteTime": {
     "end_time": "2024-05-10T12:05:40.587253Z",
     "start_time": "2024-05-10T12:05:40.523111Z"
    }
   },
   "cell_type": "code",
   "source": "db = load_db(r'output/db1')",
   "id": "a80c2e8aafe1628c",
   "outputs": [],
   "execution_count": 4
  },
  {
   "metadata": {
    "ExecuteTime": {
     "end_time": "2024-05-10T12:39:15.406314Z",
     "start_time": "2024-05-10T12:39:15.288779Z"
    }
   },
   "cell_type": "code",
   "source": [
    "test_data = r'output\\test_rec_heads.wav'\n",
    "# test_data = r'D:\\University\\Диссерт\\test_data_01_full\\id10001\\1zcIwhmdeo4\\00001.wav'\n",
    "# crop_and_convert_audio(test_data, duration_s=10)\n",
    "# emb = emb_from_file(model, f'{test_data[:-3]}wav', model_params)\n",
    "emb = emb_from_file(model, test_data, model_params)\n",
    "\n",
    "df = identification_emb(db, emb)"
   ],
   "id": "b088c79f8202829f",
   "outputs": [],
   "execution_count": 17
  },
  {
   "metadata": {
    "ExecuteTime": {
     "end_time": "2024-05-10T12:39:15.727356Z",
     "start_time": "2024-05-10T12:39:15.721090Z"
    }
   },
   "cell_type": "code",
   "source": "df",
   "id": "6bbd81c31d6cf7d5",
   "outputs": [
    {
     "data": {
      "text/plain": [
       "      user  voice       cos\n",
       "1   Nastya      1  0.342080\n",
       "4   Nastya      4  0.320980\n",
       "14    Roma      4  0.318600\n",
       "3   Nastya      3  0.318256\n",
       "13    Roma      3  0.296838\n",
       "2   Nastya      2  0.293269\n",
       "5   Radmir      0  0.276252\n",
       "0   Nastya      0  0.263535\n",
       "7   Radmir      2  0.259413\n",
       "8   Radmir      3  0.246895\n",
       "6   Radmir      1  0.242142\n",
       "12    Roma      2  0.239201\n",
       "10    Roma      0  0.226948\n",
       "11    Roma      1  0.222029\n",
       "9   Radmir      4  0.216981"
      ],
      "text/html": [
       "<div>\n",
       "<style scoped>\n",
       "    .dataframe tbody tr th:only-of-type {\n",
       "        vertical-align: middle;\n",
       "    }\n",
       "\n",
       "    .dataframe tbody tr th {\n",
       "        vertical-align: top;\n",
       "    }\n",
       "\n",
       "    .dataframe thead th {\n",
       "        text-align: right;\n",
       "    }\n",
       "</style>\n",
       "<table border=\"1\" class=\"dataframe\">\n",
       "  <thead>\n",
       "    <tr style=\"text-align: right;\">\n",
       "      <th></th>\n",
       "      <th>user</th>\n",
       "      <th>voice</th>\n",
       "      <th>cos</th>\n",
       "    </tr>\n",
       "  </thead>\n",
       "  <tbody>\n",
       "    <tr>\n",
       "      <th>1</th>\n",
       "      <td>Nastya</td>\n",
       "      <td>1</td>\n",
       "      <td>0.342080</td>\n",
       "    </tr>\n",
       "    <tr>\n",
       "      <th>4</th>\n",
       "      <td>Nastya</td>\n",
       "      <td>4</td>\n",
       "      <td>0.320980</td>\n",
       "    </tr>\n",
       "    <tr>\n",
       "      <th>14</th>\n",
       "      <td>Roma</td>\n",
       "      <td>4</td>\n",
       "      <td>0.318600</td>\n",
       "    </tr>\n",
       "    <tr>\n",
       "      <th>3</th>\n",
       "      <td>Nastya</td>\n",
       "      <td>3</td>\n",
       "      <td>0.318256</td>\n",
       "    </tr>\n",
       "    <tr>\n",
       "      <th>13</th>\n",
       "      <td>Roma</td>\n",
       "      <td>3</td>\n",
       "      <td>0.296838</td>\n",
       "    </tr>\n",
       "    <tr>\n",
       "      <th>2</th>\n",
       "      <td>Nastya</td>\n",
       "      <td>2</td>\n",
       "      <td>0.293269</td>\n",
       "    </tr>\n",
       "    <tr>\n",
       "      <th>5</th>\n",
       "      <td>Radmir</td>\n",
       "      <td>0</td>\n",
       "      <td>0.276252</td>\n",
       "    </tr>\n",
       "    <tr>\n",
       "      <th>0</th>\n",
       "      <td>Nastya</td>\n",
       "      <td>0</td>\n",
       "      <td>0.263535</td>\n",
       "    </tr>\n",
       "    <tr>\n",
       "      <th>7</th>\n",
       "      <td>Radmir</td>\n",
       "      <td>2</td>\n",
       "      <td>0.259413</td>\n",
       "    </tr>\n",
       "    <tr>\n",
       "      <th>8</th>\n",
       "      <td>Radmir</td>\n",
       "      <td>3</td>\n",
       "      <td>0.246895</td>\n",
       "    </tr>\n",
       "    <tr>\n",
       "      <th>6</th>\n",
       "      <td>Radmir</td>\n",
       "      <td>1</td>\n",
       "      <td>0.242142</td>\n",
       "    </tr>\n",
       "    <tr>\n",
       "      <th>12</th>\n",
       "      <td>Roma</td>\n",
       "      <td>2</td>\n",
       "      <td>0.239201</td>\n",
       "    </tr>\n",
       "    <tr>\n",
       "      <th>10</th>\n",
       "      <td>Roma</td>\n",
       "      <td>0</td>\n",
       "      <td>0.226948</td>\n",
       "    </tr>\n",
       "    <tr>\n",
       "      <th>11</th>\n",
       "      <td>Roma</td>\n",
       "      <td>1</td>\n",
       "      <td>0.222029</td>\n",
       "    </tr>\n",
       "    <tr>\n",
       "      <th>9</th>\n",
       "      <td>Radmir</td>\n",
       "      <td>4</td>\n",
       "      <td>0.216981</td>\n",
       "    </tr>\n",
       "  </tbody>\n",
       "</table>\n",
       "</div>"
      ]
     },
     "execution_count": 18,
     "metadata": {},
     "output_type": "execute_result"
    }
   ],
   "execution_count": 18
  },
  {
   "metadata": {
    "ExecuteTime": {
     "end_time": "2024-05-10T12:52:48.241576Z",
     "start_time": "2024-05-10T12:52:48.235569Z"
    }
   },
   "cell_type": "code",
   "source": "model_params",
   "id": "3b15b595aa7a6953",
   "outputs": [
    {
     "data": {
      "text/plain": [
       "{'persons_count': 100,\n",
       " 'max_voices': 5,\n",
       " 'mfcc_count': 20,\n",
       " 'batch_size': 16,\n",
       " 'target_sr': 16000,\n",
       " 'n_fft': 1024,\n",
       " 'hop_length': 512,\n",
       " 'n_mels': 40,\n",
       " 'lr': 0.001,\n",
       " 'margin_triplet': 0.3}"
      ]
     },
     "execution_count": 20,
     "metadata": {},
     "output_type": "execute_result"
    }
   ],
   "execution_count": 20
  },
  {
   "metadata": {},
   "cell_type": "code",
   "outputs": [],
   "execution_count": null,
   "source": "",
   "id": "4c9ff16bc0cda8bc"
  }
 ],
 "metadata": {
  "kernelspec": {
   "display_name": "Python 3",
   "language": "python",
   "name": "python3"
  },
  "language_info": {
   "codemirror_mode": {
    "name": "ipython",
    "version": 2
   },
   "file_extension": ".py",
   "mimetype": "text/x-python",
   "name": "python",
   "nbconvert_exporter": "python",
   "pygments_lexer": "ipython2",
   "version": "2.7.6"
  }
 },
 "nbformat": 4,
 "nbformat_minor": 5
}
