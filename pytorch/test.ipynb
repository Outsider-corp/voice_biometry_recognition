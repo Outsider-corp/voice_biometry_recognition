{
 "cells": [
  {
   "cell_type": "code",
   "id": "initial_id",
   "metadata": {
    "collapsed": true,
    "ExecuteTime": {
     "end_time": "2024-04-14T10:36:02.603376Z",
     "start_time": "2024-04-14T10:36:02.598571Z"
    }
   },
   "source": [
    "from typing import Tuple, Optional, List, Union\n",
    "\n",
    "import torch\n",
    "import torch.nn as nn\n",
    "import torch.optim as optim\n",
    "from torch.utils.data import DataLoader, TensorDataset\n",
    "import numpy as np\n",
    "import pandas as pd\n",
    "import torch.nn.functional as F"
   ],
   "outputs": [],
   "execution_count": 13
  },
  {
   "metadata": {
    "ExecuteTime": {
     "end_time": "2024-04-14T13:42:40.983713Z",
     "start_time": "2024-04-14T13:42:40.968077Z"
    }
   },
   "cell_type": "code",
   "source": [
    "def fit_model(model: nn.Module, input_data: torch.Tensor=None, labels: torch.Tensor=None, loader=None, epoches: int = 10,\n",
    "              lr=0.001, batch_size: int = 32, criterion=None):\n",
    "    criterion = criterion or nn.MSELoss()\n",
    "    optimizer = optim.Adam(model.parameters(), lr=lr)\n",
    "    if not loader:\n",
    "        dataset = TensorDataset(input_data, labels)\n",
    "        loader = DataLoader(dataset, batch_size=batch_size, shuffle=True)\n",
    "    for epoch in range(epoches):\n",
    "        for data, target in loader:\n",
    "            optimizer.zero_grad()\n",
    "            output = model(data.float()).squeeze()\n",
    "            loss = criterion(output, target)\n",
    "            loss.backward()\n",
    "            optimizer.step()\n",
    "        print(f'Epoch {epoch + 1}, Loss: {loss.item()}')\n",
    "\n",
    "    return model\n",
    "\n",
    "\n",
    "def fit_model_with_states(model: nn.Module, input_data: torch.Tensor=None, labels: torch.Tensor=None, loader=None, epoches: int = 10,\n",
    "                          lr=0.001, batch_size: int = 32):\n",
    "    criterion = nn.MSELoss()\n",
    "    optimizer = optim.Adam(model.parameters(), lr=lr)\n",
    "    if not loader:\n",
    "        dataset = TensorDataset(input_data, labels)\n",
    "        loader = DataLoader(dataset, batch_size=batch_size, shuffle=True)\n",
    "    for epoch in range(epoches):\n",
    "        model.train()\n",
    "        total_loss = 0\n",
    "        # hidden = model.init_hidden(batch_size)\n",
    "        for data, target in loader:\n",
    "            optimizer.zero_grad()\n",
    "            output = model(data)\n",
    "            loss = criterion(output, target)\n",
    "            loss.backward()\n",
    "            optimizer.step()\n",
    "            total_loss += loss.item() * data.size(0)\n",
    "        print(f'Epoch {epoch + 1}, Average Loss: {total_loss / len(loader.dataset)} [{loss.item()}]')\n",
    "    model.eval()\n",
    "    return model\n",
    "\n",
    "\n",
    "def load_model(model: nn.Module, filepath: str):\n",
    "    model.load_state_dict(torch.load(filepath))\n",
    "    return model\n",
    "\n",
    "\n",
    "def list_to_tensor(lst: List, dims: int = 2) -> torch.Tensor:\n",
    "    tensor = torch.tensor(lst, dtype=torch.float32)\n",
    "    if dims == 3:\n",
    "        tensor = tensor.unsqueeze(-1)\n",
    "    return tensor.to('cuda')\n",
    "\n",
    "\n",
    "def dataframe_to_tensor(df: pd.DataFrame, dims: int = 2) -> torch.Tensor:\n",
    "    return list_to_tensor(df.values, dims)\n",
    "\n",
    "\n",
    "def tensor_to_list(tensor: torch.Tensor) -> list:\n",
    "    return tensor.detach().cpu().tolist()"
   ],
   "id": "c9514228597b0f59",
   "outputs": [],
   "execution_count": 217
  },
  {
   "metadata": {
    "ExecuteTime": {
     "end_time": "2024-04-14T10:36:03.354986Z",
     "start_time": "2024-04-14T10:36:03.345372Z"
    }
   },
   "cell_type": "code",
   "source": [
    "class AttentionModel(nn.Module):\n",
    "    def __init__(self, input_size: int, hidden_sizes: Optional[List[int]] = None,\n",
    "                 output_size: int = 1):\n",
    "        super(AttentionModel, self).__init__()\n",
    "        hidden_sizes = hidden_sizes or [30]\n",
    "        # Веса внимания для входных фич\n",
    "        self.attention_weights = nn.Parameter(torch.randn(input_size, requires_grad=True))\n",
    "\n",
    "        self.layer1 = nn.Linear(input_size, hidden_sizes[0])\n",
    "        self.layer2 = nn.Linear(hidden_sizes[0], hidden_sizes[1])\n",
    "        self.layer3 = nn.Linear(hidden_sizes[1], output_size)\n",
    "\n",
    "    def forward(self, x):\n",
    "        x = F.relu(self.layer1(x))\n",
    "        x = F.relu(self.layer2(x))\n",
    "        x = self.layer3(x)\n",
    "        return x"
   ],
   "id": "7e956f36c2177a38",
   "outputs": [],
   "execution_count": 15
  },
  {
   "metadata": {
    "ExecuteTime": {
     "end_time": "2024-04-14T15:57:09.984506Z",
     "start_time": "2024-04-14T15:57:09.966087Z"
    }
   },
   "cell_type": "code",
   "source": [
    "class PredictNextNumModel(nn.Module):\n",
    "    def __init__(self, input_size: int, hidden_size: int = 16, output_size: int = 1):\n",
    "        super(PredictNextNumModel, self).__init__()\n",
    "        self.hidden_size = hidden_size\n",
    "        self.rnn = nn.RNN(input_size, hidden_size, batch_first=True)\n",
    "        self.rnn2 = nn.RNN(hidden_size, hidden_size, batch_first=True)\n",
    "        self.rnn3 = nn.RNN(hidden_size, hidden_size, batch_first=True)\n",
    "        self.linear = nn.Linear(hidden_size, output_size)\n",
    "\n",
    "    def forward(self, x):\n",
    "        hidden = self.init_hidden(x.size(0))\n",
    "        out, hidden = self.rnn(x, hidden)\n",
    "        out, hidden = self.rnn2(out, hidden)\n",
    "        out, hidden = self.rnn3(out, hidden)\n",
    "        out = self.linear(out)\n",
    "        return out[:, -1, :]\n",
    "\n",
    "    def init_hidden(self, batch_size: int):\n",
    "        return torch.zeros(1, batch_size, self.hidden_size).to('cuda')"
   ],
   "id": "406daeb67c5aaae5",
   "outputs": [],
   "execution_count": 245
  },
  {
   "metadata": {
    "ExecuteTime": {
     "end_time": "2024-04-14T13:07:54.362608Z",
     "start_time": "2024-04-14T13:07:54.357921Z"
    }
   },
   "cell_type": "code",
   "source": [
    "class SimpleCNN(nn.Module):\n",
    "    def __init__(self):\n",
    "        super(SimpleCNN, self).__init__()\n",
    "        # Сверточный слой #1\n",
    "        self.conv1 = nn.Conv2d(1, 16, kernel_size=3, stride=1, padding=1)  # Принимает 1 канал, выдает 16 каналов\n",
    "        # Сверточный слой #2\n",
    "        self.conv2 = nn.Conv2d(16, 32, kernel_size=3, stride=1, padding=1)  # Принимает 16 каналов, выдает 32 канала\n",
    "        # Пуллинг слой\n",
    "        self.pool = nn.MaxPool2d(2, 2)  # Пуллинг с окном 2x2\n",
    "        # Линейный слой для классификации\n",
    "        self.fc = nn.Linear(32 * 7 * 7, 10)  # предполагаем, что изображение уменьшилось до 7x7\n",
    "\n",
    "    def forward(self, x):\n",
    "        x = self.pool(F.relu(self.conv1(x)))  # Применяем ReLU и пуллинг после первого сверточного слоя\n",
    "        x = self.pool(F.relu(self.conv2(x)))  # Применяем ReLU и пуллинг после второго сверточного слоя\n",
    "        x = torch.flatten(x, 1)  # Выравнивание всех признаков в один вектор\n",
    "        x = self.fc(x)  # Пропускаем через полносвязный слой\n",
    "        return x"
   ],
   "id": "d6590d991c9aff29",
   "outputs": [],
   "execution_count": 210
  },
  {
   "metadata": {
    "ExecuteTime": {
     "end_time": "2024-04-14T12:42:51.566750Z",
     "start_time": "2024-04-14T12:42:51.559367Z"
    }
   },
   "cell_type": "code",
   "source": [
    "def next_number_func(start: float, count: int = 1) -> Union[List, float]:\n",
    "    ans = [start]\n",
    "    for i in range(count):\n",
    "        x = ans[-1] * 2 + 1\n",
    "        ans.append(x)\n",
    "    ans.pop(0)\n",
    "    return ans if len(ans) != 1 else ans[0]"
   ],
   "id": "4faadb6b7b5020da",
   "outputs": [],
   "execution_count": 188
  },
  {
   "metadata": {
    "ExecuteTime": {
     "end_time": "2024-04-14T15:14:41.305289Z",
     "start_time": "2024-04-14T15:14:41.291111Z"
    }
   },
   "cell_type": "code",
   "source": [
    "input_size = 4\n",
    "columns = [f'x{i + 1}' for i in range(input_size)]\n",
    "# train_data = pd.DataFrame(np.random.randint(1, 100, size=(10000, input_size)), columns=columns)\n",
    "train_data = pd.DataFrame([next_number_func(np.random.randint(1, 100), input_size) for _ in range(1000)],\n",
    "                          columns=columns)\n",
    "\n",
    "# target_data = pd.DataFrame([next_number_func(start=i) for i in train_data[f'x{len(columns)}'].to_list()],\n",
    "#                            columns=['target'])\n",
    "target_data = pd.DataFrame(train_data[f'x{len(columns)}'].to_list(), columns=['target'])\n",
    "\n",
    "input_data = dataframe_to_tensor(train_data, dims=3)\n",
    "labels = dataframe_to_tensor(target_data)\n",
    "\n",
    "filename = 'predict_next'"
   ],
   "id": "860c6e73cf19f0eb",
   "outputs": [],
   "execution_count": 222
  },
  {
   "metadata": {
    "ExecuteTime": {
     "end_time": "2024-04-14T12:15:07.136313Z",
     "start_time": "2024-04-14T12:15:07.115139Z"
    }
   },
   "cell_type": "code",
   "source": [
    "# Загрузка модели из файла\n",
    "model = load_model(PredictNextNumModel(1, 64, 1), f'{filename}.pth').to('cuda')"
   ],
   "id": "88af83fddb640d0d",
   "outputs": [],
   "execution_count": 111
  },
  {
   "metadata": {
    "ExecuteTime": {
     "end_time": "2024-04-14T15:57:12.531015Z",
     "start_time": "2024-04-14T15:57:12.512085Z"
    }
   },
   "cell_type": "code",
   "source": [
    "# Обучение модели\n",
    "model = PredictNextNumModel(1, 512, 1)\n",
    "model = model.to('cuda')"
   ],
   "id": "683cb526dac60563",
   "outputs": [],
   "execution_count": 246
  },
  {
   "metadata": {},
   "cell_type": "code",
   "source": [
    "fit_model_with_states(model, input_data, labels, epoches=100, batch_size=32)\n",
    "torch.save(model.state_dict(), f'{filename}.pth')  # Сохранение весов модели"
   ],
   "id": "cbfa1f5500d5370c",
   "outputs": [],
   "execution_count": null
  },
  {
   "metadata": {
    "ExecuteTime": {
     "end_time": "2024-04-14T15:18:26.941985Z",
     "start_time": "2024-04-14T15:18:26.918327Z"
    }
   },
   "cell_type": "code",
   "source": [
    "test_data = pd.DataFrame([[1, 3, 7, 15]])\n",
    "model(dataframe_to_tensor(test_data, dims=3))"
   ],
   "id": "a453a79b6b0dcc97",
   "outputs": [
    {
     "data": {
      "text/plain": [
       "tensor([[5.7069]], device='cuda:0', grad_fn=<SliceBackward0>)"
      ]
     },
     "execution_count": 235,
     "metadata": {},
     "output_type": "execute_result"
    }
   ],
   "execution_count": 235
  },
  {
   "metadata": {
    "ExecuteTime": {
     "end_time": "2024-04-14T13:09:53.046210Z",
     "start_time": "2024-04-14T13:09:53.012144Z"
    }
   },
   "cell_type": "code",
   "source": [
    "from torchvision import datasets, transforms\n",
    "\n",
    "# Трансформации для предварительной обработки данных\n",
    "transform = transforms.Compose([transforms.ToTensor(), transforms.Normalize((0.5,), (0.5,))])\n",
    "\n",
    "# Загрузка данных\n",
    "train_dataset = datasets.MNIST(root='./data', train=True, download=True, transform=transform)\n",
    "train_loader = torch.utils.data.DataLoader(train_dataset, batch_size=64, shuffle=True)"
   ],
   "id": "80546010d568b5d7",
   "outputs": [],
   "execution_count": 215
  },
  {
   "metadata": {
    "ExecuteTime": {
     "end_time": "2024-04-14T13:42:40.968077Z",
     "start_time": "2024-04-14T13:09:53.362205Z"
    }
   },
   "cell_type": "code",
   "source": [
    "model = SimpleCNN()\n",
    "model = fit_model(model, loader=train_loader, epoches=50, criterion=nn.CrossEntropyLoss())"
   ],
   "id": "1d2a0044cc782bf5",
   "outputs": [
    {
     "name": "stdout",
     "output_type": "stream",
     "text": [
      "Epoch 1, Loss: 0.005777818616479635\n",
      "Epoch 2, Loss: 0.04960726201534271\n",
      "Epoch 3, Loss: 0.006789261940866709\n",
      "Epoch 4, Loss: 0.021904947236180305\n",
      "Epoch 5, Loss: 0.024383459240198135\n",
      "Epoch 6, Loss: 0.02011103369295597\n",
      "Epoch 7, Loss: 0.03838662430644035\n",
      "Epoch 8, Loss: 0.0060940515249967575\n",
      "Epoch 9, Loss: 0.0004249002377036959\n",
      "Epoch 10, Loss: 0.0015589382965117693\n",
      "Epoch 11, Loss: 0.012817710638046265\n",
      "Epoch 12, Loss: 0.005018122959882021\n",
      "Epoch 13, Loss: 0.0008570727659389377\n",
      "Epoch 14, Loss: 0.0025187439750880003\n",
      "Epoch 15, Loss: 5.128941120347008e-05\n",
      "Epoch 16, Loss: 0.0007193447090685368\n",
      "Epoch 17, Loss: 0.003530555171892047\n",
      "Epoch 18, Loss: 0.017555193975567818\n",
      "Epoch 19, Loss: 3.407353869988583e-05\n",
      "Epoch 20, Loss: 0.00303028360940516\n",
      "Epoch 21, Loss: 1.5540445019723848e-05\n",
      "Epoch 22, Loss: 9.602396858099382e-06\n",
      "Epoch 23, Loss: 0.1825202852487564\n",
      "Epoch 24, Loss: 0.039949383586645126\n",
      "Epoch 25, Loss: 7.417173765134066e-05\n",
      "Epoch 26, Loss: 1.551418063172605e-05\n",
      "Epoch 27, Loss: 1.909787351905834e-05\n",
      "Epoch 28, Loss: 5.2154042862184724e-08\n",
      "Epoch 29, Loss: 4.757826172863133e-05\n",
      "Epoch 30, Loss: 5.960436055829632e-07\n",
      "Epoch 31, Loss: 0.03207222744822502\n",
      "Epoch 32, Loss: 2.2604650439461693e-05\n",
      "Epoch 33, Loss: 8.828819773043506e-07\n",
      "Epoch 34, Loss: 1.6763772237027297e-07\n",
      "Epoch 35, Loss: 3.2483421819051728e-06\n",
      "Epoch 36, Loss: 0.0003102472110185772\n",
      "Epoch 37, Loss: 1.8924120013252832e-06\n",
      "Epoch 38, Loss: 3.4700722608249635e-05\n",
      "Epoch 39, Loss: 0.0013814461417496204\n",
      "Epoch 40, Loss: 5.267342203296721e-06\n",
      "Epoch 41, Loss: 5.19262448506197e-06\n",
      "Epoch 42, Loss: 0.0\n",
      "Epoch 43, Loss: 0.000141163807711564\n",
      "Epoch 44, Loss: 1.6763780763540126e-07\n",
      "Epoch 45, Loss: 0.0\n",
      "Epoch 46, Loss: 1.1175870007207322e-08\n",
      "Epoch 47, Loss: 2.6080009774887003e-05\n",
      "Epoch 48, Loss: 1.084041514332057e-06\n",
      "Epoch 49, Loss: 5.352784228307428e-06\n",
      "Epoch 50, Loss: 0.0004170118772890419\n"
     ]
    }
   ],
   "execution_count": 216
  },
  {
   "metadata": {},
   "cell_type": "code",
   "source": "model(x)",
   "id": "d5835c4d4d285c5d",
   "outputs": [],
   "execution_count": null
  },
  {
   "metadata": {},
   "cell_type": "code",
   "outputs": [],
   "execution_count": null,
   "source": "",
   "id": "7fdc3caa2bdcd3b1"
  }
 ],
 "metadata": {
  "kernelspec": {
   "display_name": "Python 3",
   "language": "python",
   "name": "python3"
  },
  "language_info": {
   "codemirror_mode": {
    "name": "ipython",
    "version": 2
   },
   "file_extension": ".py",
   "mimetype": "text/x-python",
   "name": "python",
   "nbconvert_exporter": "python",
   "pygments_lexer": "ipython2",
   "version": "2.7.6"
  }
 },
 "nbformat": 4,
 "nbformat_minor": 5
}
