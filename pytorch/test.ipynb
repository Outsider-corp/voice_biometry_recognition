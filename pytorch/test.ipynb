{
 "cells": [
  {
   "metadata": {},
   "cell_type": "code",
   "outputs": [],
   "execution_count": null,
   "source": [
    "from typing import Tuple\n",
    "\n",
    "import torch\n",
    "import torch.nn as nn\n",
    "import torch.optim as optim\n",
    "from torch.utils.data import DataLoader, TensorDataset\n",
    "import numpy as np\n",
    "import pandas as pd\n",
    "import torch.nn.functional as F"
   ],
   "id": "859472fda0b07f81"
  },
  {
   "metadata": {},
   "cell_type": "code",
   "outputs": [],
   "execution_count": null,
   "source": [
    "def fit_model(model: nn.Module, input_data: torch.Tensor, labels: torch.Tensor, epoches: int = 10,\n",
    "              lr=0.001, batch_size: int = 32):\n",
    "    criterion = nn.MSELoss()\n",
    "    optimizer = optim.Adam(model.parameters(), lr=lr)\n",
    "    dataset = TensorDataset(input_data, labels)\n",
    "    loader = DataLoader(dataset, batch_size=batch_size, shuffle=True)\n",
    "\n",
    "    for epoch in range(epoches):\n",
    "        for data, target in loader:\n",
    "            optimizer.zero_grad()\n",
    "            output = model(data.float()).squeeze()\n",
    "            loss = criterion(output, target.float())\n",
    "            loss.backward()\n",
    "            optimizer.step()\n",
    "        print(f'Epoch {epoch + 1}, Loss: {loss.item()}')\n",
    "\n",
    "    return model\n",
    "\n",
    "\n",
    "def load_model(model: nn.Module, filepath: str):\n",
    "    model.load_state_dict(torch.load(filepath))\n",
    "    return model\n",
    "\n",
    "\n",
    "def dataframe_to_tensor(df: pd.DataFrame) -> Tuple[torch.Tensor, torch.Tensor]:\n",
    "    features = torch.tensor(df.values, dtype=torch.float32).to('cuda')\n",
    "    return features\n",
    "\n",
    "def list_to_tensor(lst: List) -> torch.Tensor:\n",
    "    return  torch.tensor(lst, dtype=torch.float32).to('cuda')\n",
    "\n",
    "def tensor_to_list(tensor: torch.Tensor) -> list:\n",
    "    return tensor.detach().cpu().tolist()"
   ],
   "id": "c5bd24f8ba331d85"
  },
  {
   "metadata": {},
   "cell_type": "code",
   "outputs": [],
   "execution_count": null,
   "source": [
    "class AttentionModel(nn.Module):\n",
    "    def __init__(self, input_size: int, hidden_sizes: Optional[List[int]] = None,\n",
    "                 output_size: int = 1):\n",
    "        super(AttentionModel, self).__init__()\n",
    "        hidden_sizes = hidden_sizes or [30]\n",
    "        # Веса внимания для входных фич\n",
    "        self.attention_weights = nn.Parameter(torch.randn(input_size, requires_grad=True))\n",
    "\n",
    "        self.layer1 = nn.Linear(input_size, hidden_sizes[0])\n",
    "        self.layer2 = nn.Linear(hidden_sizes[0], hidden_sizes[1])\n",
    "        self.layer3 = nn.Linear(hidden_sizes[1], output_size)\n",
    "\n",
    "    def forward(self, x):\n",
    "        x = F.relu(self.layer1(x))\n",
    "        x = F.relu(self.layer2(x))\n",
    "        x = self.layer3(x)\n",
    "        return x"
   ],
   "id": "94e58d1a5b150b1"
  },
  {
   "metadata": {},
   "cell_type": "code",
   "outputs": [],
   "execution_count": null,
   "source": [
    "input_size = 4\n",
    "columns = [f'x{i + 1}' for i in range(input_size)]\n",
    "train_data = pd.DataFrame(np.random.randint(1, 100, size=(10000, input_size)), columns=columns)\n",
    "\n",
    "target_data = train_data['x1'] + train_data['x2'] - train_data['x3']\n",
    "\n",
    "input_data = dataframe_to_tensor(train_data)\n",
    "labels = dataframe_to_tensor(target_data)\n",
    "\n",
    "filename = 'att'"
   ],
   "id": "c0fc134ca4f86d7d"
  },
  {
   "metadata": {},
   "cell_type": "code",
   "outputs": [],
   "execution_count": null,
   "source": [
    "# Загрузка модели из файла\n",
    "model = load_model(AttentionModel(input_size), f'{filename}.pth').to('cuda')"
   ],
   "id": "b367c4c0dac69439"
  },
  {
   "metadata": {},
   "cell_type": "code",
   "outputs": [],
   "execution_count": null,
   "source": [
    "# Обучение модели\n",
    "model = AttentionModel(input_size, [128, 128], 1)\n",
    "\n",
    "model = model.to('cuda')\n",
    "fit_model(model, input_data, labels, epoches=50, batch_size=32)\n",
    "torch.save(model.state_dict(), f'{filename}.pth')  # Сохранение весов модели"
   ],
   "id": "4d611c1209af08c2"
  },
  {
   "metadata": {},
   "cell_type": "code",
   "outputs": [],
   "execution_count": null,
   "source": [
    "test_data = [4, 5, 6, 7]\n",
    "\n",
    "model(list_to_tensor(test_data))"
   ],
   "id": "e29792762d4f9200"
  },
  {
   "metadata": {},
   "cell_type": "code",
   "outputs": [],
   "execution_count": null,
   "source": [],
   "id": "7fdc3caa2bdcd3b1"
  }
 ],
 "metadata": {
  "kernelspec": {
   "display_name": "Python 3",
   "language": "python",
   "name": "python3"
  },
  "language_info": {
   "codemirror_mode": {
    "name": "ipython",
    "version": 2
   },
   "file_extension": ".py",
   "mimetype": "text/x-python",
   "name": "python",
   "nbconvert_exporter": "python",
   "pygments_lexer": "ipython2",
   "version": "2.7.6"
  }
 },
 "nbformat": 4,
 "nbformat_minor": 5
}
